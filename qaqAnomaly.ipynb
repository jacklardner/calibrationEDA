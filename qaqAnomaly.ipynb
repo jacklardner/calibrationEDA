{
 "cells": [
  {
   "cell_type": "code",
   "execution_count": 14,
   "metadata": {},
   "outputs": [],
   "source": [
    "import pandas as pd\n",
    "import matplotlib.pyplot as plt\n",
    "import numpy as np\n",
    "from statsmodels.stats.weightstats import ttest_ind\n",
    "import scipy.stats as stats\n",
    "import seaborn as sns\n",
    "import matplotlib.pyplot as plt\n",
    "import statsmodels.stats.api as sms\n",
    "import statsmodels.api as sm\n",
    "#create dataframes\n",
    "dpw_df = pd.read_csv(\"2425data/NO2_DPW_2425.csv\")\n",
    "pema_df = pd.read_csv(\"2425data/NO2_PEMA_2425.csv\")\n",
    "pha_df = pd.read_csv(\"2425data/NO2_PHA_2425.csv\")"
   ]
  },
  {
   "cell_type": "code",
   "execution_count": 15,
   "metadata": {},
   "outputs": [],
   "source": [
    "dpw_df[\"timestamp\"] = pd.to_datetime(dpw_df[\"timestamp\"])\n",
    "dpw_df[\"timestamp_local\"] = pd.to_datetime(dpw_df[\"timestamp_local\"])\n",
    "\n",
    "dpw_df[\"date_utc\"] = dpw_df[\"timestamp\"].dt.strftime(\"%Y-%m-%d\")\n",
    "dpw_df[\"time_utc\"] = dpw_df[\"timestamp\"].dt.strftime(\"%H:%M:%S\")\n",
    "\n",
    "dpw_df[\"date_est\"] = dpw_df[\"timestamp_local\"].dt.strftime(\"%Y-%m-%d\")\n",
    "dpw_df[\"time_est\"] = dpw_df[\"timestamp_local\"].dt.strftime(\"%H:%M:%S\")\n",
    "dpw_df[\"datetime\"] = pd.to_datetime(dpw_df[\"date_utc\"] + ' ' + dpw_df[\"time_utc\"])\n",
    "\n",
    "\n",
    "\n",
    "# dpw_df[\"timestamp\"] = pd.to_datetime(dpw_df[\"timestamp\"])\n",
    "\n",
    "# window_size = 10\n",
    "# dpw_df[\"no2_rolling_var\"] = dpw_df[\"no2\"].rolling(window=window_size, min_periods=5).var()\n",
    "\n",
    "# mean_var = dpw_df[\"no2_rolling_var\"].mean()\n",
    "# std_var = dpw_df[\"no2_rolling_var\"].std()\n",
    "# dpw_df[\"no2_var_zscore\"] = (dpw_df[\"no2_rolling_var\"] - mean_var) / std_var\n",
    "# dpw_df[\"flatline_flag\"] = dpw_df[\"no2_var_zscore\"] < -2\n"
   ]
  },
  {
   "cell_type": "code",
   "execution_count": null,
   "metadata": {},
   "outputs": [],
   "source": [
    "window_size = 10 #in minutes\n",
    "dpw_df[\"no2_rolling_std\"] = dpw_df[\"no2\"].rolling(window=window_size, min_periods=5).std()\n",
    "\n",
    "std_threshold = 0.01\n",
    "dpw_df[\"flatline_flag\"] = dpw_df[\"no2_rolling_std\"] < std_threshold\n",
    "dpw_df.to_csv(\"NO2_DPW_withFlatline.csv\", index=False)\n"
   ]
  },
  {
   "cell_type": "code",
   "execution_count": null,
   "metadata": {},
   "outputs": [],
   "source": [
    "window_size = 10 #in minutes\n",
    "pema_df[\"no2_rolling_std\"] = pema_df[\"no2\"].rolling(window=window_size, min_periods=5).std()\n",
    "\n",
    "std_threshold = 0.01\n",
    "pema_df[\"flatline_flag\"] = pema_df[\"no2_rolling_std\"] < std_threshold\n",
    "pema_df.to_csv(\"NO2_PEMA_withFlatline.csv\", index=False)\n"
   ]
  },
  {
   "cell_type": "code",
   "execution_count": null,
   "metadata": {},
   "outputs": [],
   "source": [
    "window_size = 10 #in minutes\n",
    "pha_df[\"no2_rolling_std\"] = pha_df[\"no2\"].rolling(window=window_size, min_periods=5).std()\n",
    "\n",
    "std_threshold = 0.01\n",
    "pha_df[\"flatline_flag\"] = pha_df[\"no2_rolling_std\"] < std_threshold\n",
    "pha_df.to_csv(\"NO2_PHA_withFlatline.csv\", index=False)\n"
   ]
  }
 ],
 "metadata": {
  "kernelspec": {
   "display_name": "Python 3",
   "language": "python",
   "name": "python3"
  },
  "language_info": {
   "codemirror_mode": {
    "name": "ipython",
    "version": 3
   },
   "file_extension": ".py",
   "mimetype": "text/x-python",
   "name": "python",
   "nbconvert_exporter": "python",
   "pygments_lexer": "ipython3",
   "version": "3.10.6"
  },
  "orig_nbformat": 4,
  "vscode": {
   "interpreter": {
    "hash": "aee8b7b246df8f9039afb4144a1f6fd8d2ca17a180786b69acc140d282b71a49"
   }
  }
 },
 "nbformat": 4,
 "nbformat_minor": 2
}
